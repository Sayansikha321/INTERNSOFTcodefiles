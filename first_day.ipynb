{
 "cells": [
  {
   "cell_type": "code",
   "execution_count": 2,
   "metadata": {},
   "outputs": [
    {
     "name": "stdout",
     "output_type": "stream",
     "text": [
      "hello world\n"
     ]
    }
   ],
   "source": [
    "print(\"hello world\")"
   ]
  },
  {
   "cell_type": "code",
   "execution_count": 3,
   "metadata": {},
   "outputs": [],
   "source": [
    "def fact(n):\n",
    "    a=1\n",
    "    while(n!=0):\n",
    "        a=a*n\n",
    "        n=n-1\n",
    "    return a"
   ]
  },
  {
   "cell_type": "code",
   "execution_count": 10,
   "metadata": {},
   "outputs": [
    {
     "name": "stdout",
     "output_type": "stream",
     "text": [
      "45 <class 'int'> 140736916672312\n",
      "45 <class 'str'> 1599802280000\n",
      "raj <class 'str'> 1599802279520\n"
     ]
    }
   ],
   "source": [
    "a= 45\n",
    "b=\"45\"\n",
    "c= \"raj\"\n",
    "\n",
    "print(a, type(a), id(a))\n",
    "print(b,type(b),id(b))\n",
    "print(c , type(c), id(c))"
   ]
  },
  {
   "cell_type": "code",
   "execution_count": 11,
   "metadata": {},
   "outputs": [
    {
     "name": "stdout",
     "output_type": "stream",
     "text": [
      "4\n",
      "5\n"
     ]
    }
   ],
   "source": [
    "i=0\n",
    "for i in range(len(b)):\n",
    "    print(b[i])"
   ]
  },
  {
   "cell_type": "code",
   "execution_count": 12,
   "metadata": {},
   "outputs": [
    {
     "name": "stdout",
     "output_type": "stream",
     "text": [
      "1\n",
      "2\n",
      "3\n",
      "4\n",
      "1\n",
      "Length of b = 5\n"
     ]
    }
   ],
   "source": [
    "b=[1,2,3,4,1]\n",
    "i=0\n",
    "for i in range(len(b)):\n",
    "    print(b[i])\n",
    "print(\"Length of b =\",len(b))"
   ]
  },
  {
   "cell_type": "code",
   "execution_count": 13,
   "metadata": {},
   "outputs": [
    {
     "name": "stdout",
     "output_type": "stream",
     "text": [
      "<class 'dict'>\n",
      "{'1': 'e', '2': 'b', '3': 'c', '4': 'd'}\n",
      "Length of e = 4\n"
     ]
    }
   ],
   "source": [
    "e={\"1\":\"a\",\"2\":\"b\",\"3\":\"c\",\"4\":\"d\",\"1\":\"e\"}\n",
    "print(type(e))\n",
    "print(e)\n",
    "print(\"Length of e =\",len(e))"
   ]
  },
  {
   "cell_type": "code",
   "execution_count": 14,
   "metadata": {},
   "outputs": [
    {
     "name": "stdout",
     "output_type": "stream",
     "text": [
      "5 <class 'int'>\n",
      "2.5 <class 'float'>\n",
      "2.5 <class 'str'>\n",
      "5 <class 'int'>\n"
     ]
    }
   ],
   "source": [
    "a = 5\n",
    "print(a,type(a))\n",
    "\n",
    "a = a/2\n",
    "print(a,type(a))\n",
    "\n",
    "b = \"5\"\n",
    "print(a,type(b))\n",
    "b = int(b)\n",
    "print(b,type(b))"
   ]
  },
  {
   "cell_type": "code",
   "execution_count": 15,
   "metadata": {},
   "outputs": [
    {
     "name": "stdout",
     "output_type": "stream",
     "text": [
      "Addition: 8\n",
      "Multiplication: 15\n"
     ]
    }
   ],
   "source": [
    "#arithmetic Operators\n",
    "a = 5\n",
    "b = 3\n",
    "result1 = a + b\n",
    "result2 = a * b\n",
    "print(\"Addition:\", result1)  \n",
    "print(\"Multiplication:\", result2)  "
   ]
  },
  {
   "cell_type": "code",
   "execution_count": 16,
   "metadata": {},
   "outputs": [
    {
     "name": "stdout",
     "output_type": "stream",
     "text": [
      "Is a greater than b? True\n",
      "Is a less than b? False\n"
     ]
    }
   ],
   "source": [
    "#comparision operator\n",
    "a = 5\n",
    "b = 3\n",
    "is_greater = a > b\n",
    "is_less = a < b\n",
    "print(\"Is a greater than b?\", is_greater) \n",
    "print(\"Is a less than b?\", is_less)"
   ]
  },
  {
   "cell_type": "code",
   "execution_count": 17,
   "metadata": {},
   "outputs": [
    {
     "name": "stdout",
     "output_type": "stream",
     "text": [
      "Bitwise Left Shift: 32\n",
      "Bitwise Right Shift: 2\n"
     ]
    }
   ],
   "source": [
    "#bitwise operator\n",
    "x = 8  \n",
    "\n",
    "left_shift_result = x << 2  \n",
    "right_shift_result = x >> 2  \n",
    "\n",
    "print(\"Bitwise Left Shift:\", left_shift_result)  \n",
    "print(\"Bitwise Right Shift:\", right_shift_result) \n"
   ]
  },
  {
   "cell_type": "code",
   "execution_count": 18,
   "metadata": {},
   "outputs": [
    {
     "name": "stdout",
     "output_type": "stream",
     "text": [
      "Logical AND: False\n",
      "Logical OR: True\n"
     ]
    }
   ],
   "source": [
    "#logical Operators\n",
    "a = True\n",
    "b = False\n",
    "\n",
    "logical_and_result = a and b\n",
    "logical_or_result = a or b\n",
    "\n",
    "print(\"Logical AND:\", logical_and_result)  \n",
    "print(\"Logical OR:\", logical_or_result) \n"
   ]
  },
  {
   "cell_type": "code",
   "execution_count": 19,
   "metadata": {},
   "outputs": [
    {
     "name": "stdout",
     "output_type": "stream",
     "text": [
      "Updated 'a' using +=: 8\n"
     ]
    }
   ],
   "source": [
    "#assignment operator\n",
    "a = 5\n",
    "b = 3\n",
    "\n",
    "a += b  \n",
    "\n",
    "print(\"Updated 'a' using +=:\", a) "
   ]
  },
  {
   "cell_type": "code",
   "execution_count": 20,
   "metadata": {},
   "outputs": [
    {
     "name": "stdout",
     "output_type": "stream",
     "text": [
      "Yes, 'banana' is in the list of fruits.\n"
     ]
    }
   ],
   "source": [
    "#membership operator\n",
    "fruits = [\"apple\", \"banana\", \"cherry\"]\n",
    "\n",
    "if \"banana\" in fruits:\n",
    "    print(\"Yes, 'banana' is in the list of fruits.\")\n",
    "else:\n",
    "    print(\"No, 'banana' is not in the list of fruits.\")"
   ]
  },
  {
   "cell_type": "code",
   "execution_count": 21,
   "metadata": {},
   "outputs": [
    {
     "name": "stdout",
     "output_type": "stream",
     "text": [
      "a and b are not the same object.\n"
     ]
    }
   ],
   "source": [
    "#identity Operator\n",
    "a = 5\n",
    "b = 10\n",
    "\n",
    "if a is not b:\n",
    "    print(\"a and b are not the same object.\")\n",
    "else:\n",
    "    print(\"a and b are the same object.\")"
   ]
  },
  {
   "cell_type": "code",
   "execution_count": null,
   "metadata": {},
   "outputs": [],
   "source": []
  },
  {
   "cell_type": "code",
   "execution_count": null,
   "metadata": {},
   "outputs": [],
   "source": []
  },
  {
   "cell_type": "code",
   "execution_count": null,
   "metadata": {},
   "outputs": [],
   "source": []
  }
 ],
 "metadata": {
  "kernelspec": {
   "display_name": "venv",
   "language": "python",
   "name": "python3"
  },
  "language_info": {
   "codemirror_mode": {
    "name": "ipython",
    "version": 3
   },
   "file_extension": ".py",
   "mimetype": "text/x-python",
   "name": "python",
   "nbconvert_exporter": "python",
   "pygments_lexer": "ipython3",
   "version": "3.12.0"
  }
 },
 "nbformat": 4,
 "nbformat_minor": 2
}
